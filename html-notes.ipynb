{
 "cells": [
  {
   "cell_type": "markdown",
   "id": "be4d7b3e-1929-4906-b525-30d9bdfe4b58",
   "metadata": {},
   "source": [
    "# HTML Notes\n",
    "*** "
   ]
  },
  {
   "cell_type": "markdown",
   "id": "8e30170e-c738-441a-846f-87009a95aabe",
   "metadata": {},
   "source": [
    "## Smaller Heading"
   ]
  },
  {
   "cell_type": "markdown",
   "id": "5537b705-3b2a-4a4b-92ce-098723fa41f7",
   "metadata": {},
   "source": [
    "### Even Smaller Heading"
   ]
  },
  {
   "cell_type": "markdown",
   "id": "c5dfa6ad-65e7-46e0-a88e-d20b7456aba6",
   "metadata": {},
   "source": [
    "<p> This is a simple paragraph </p> "
   ]
  },
  {
   "cell_type": "markdown",
   "id": "1920e9c6-a90f-4f5a-b638-46f58545f0fe",
   "metadata": {},
   "source": [
    "This is a paragraph"
   ]
  },
  {
   "cell_type": "markdown",
   "id": "0df6bf02-cf04-48a3-a874-4b3b47bff10f",
   "metadata": {},
   "source": [
    "In `HTML` the `<p>` tag"
   ]
  },
  {
   "cell_type": "markdown",
   "id": "5a7cfc16-bdb5-4437-a4db-51efd8ccae86",
   "metadata": {},
   "source": [
    "__Bold text__"
   ]
  },
  {
   "cell_type": "markdown",
   "id": "39f95ae0-3ca9-4ecc-bcb9-933a5106e8c5",
   "metadata": {},
   "source": [
    "1. Hi\n",
    "2. There\n",
    "3. Hello\n",
    "4. Back"
   ]
  },
  {
   "cell_type": "markdown",
   "id": "140ee3f3-2992-45eb-bbb3-e76d9e5df119",
   "metadata": {},
   "source": [
    "_italic_"
   ]
  },
  {
   "cell_type": "markdown",
   "id": "274d503d-3676-486e-b0b4-d3654b5ff76d",
   "metadata": {},
   "source": [
    "*also italic*"
   ]
  },
  {
   "cell_type": "markdown",
   "id": "5573ab3b-afed-470d-8e45-62ff743c1bd0",
   "metadata": {},
   "source": [
    "[Image of Apple](https://i5.walmartimages.com/seo/Fresh-Gala-Apple-Each_f46d4fa7-6108-4450-a610-cc95a1ca28c5_3.38c2c5b2f003a0aafa618f3b4dc3cbbd.jpeg)"
   ]
  },
  {
   "cell_type": "code",
   "execution_count": null,
   "id": "a01f37b3-1457-47f6-8d49-017836b5757b",
   "metadata": {},
   "outputs": [],
   "source": []
  }
 ],
 "metadata": {
  "kernelspec": {
   "display_name": "Python 3 (ipykernel)",
   "language": "python",
   "name": "python3"
  },
  "language_info": {
   "codemirror_mode": {
    "name": "ipython",
    "version": 3
   },
   "file_extension": ".py",
   "mimetype": "text/x-python",
   "name": "python",
   "nbconvert_exporter": "python",
   "pygments_lexer": "ipython3",
   "version": "3.12.1"
  }
 },
 "nbformat": 4,
 "nbformat_minor": 5
}
